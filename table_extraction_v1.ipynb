{
  "nbformat": 4,
  "nbformat_minor": 0,
  "metadata": {
    "colab": {
      "provenance": [],
      "collapsed_sections": [
        "awMYKF1a12Ba",
        "Mx3HMriM-Kcd"
      ],
      "include_colab_link": true
    },
    "kernelspec": {
      "name": "python3",
      "display_name": "Python 3"
    },
    "language_info": {
      "name": "python"
    }
  },
  "cells": [
    {
      "cell_type": "markdown",
      "metadata": {
        "id": "view-in-github",
        "colab_type": "text"
      },
      "source": [
        "<a href=\"https://colab.research.google.com/github/dbaglodi/AI-For-AccessCORPS/blob/main/table_extraction_v1.ipynb\" target=\"_parent\"><img src=\"https://colab.research.google.com/assets/colab-badge.svg\" alt=\"Open In Colab\"/></a>"
      ]
    },
    {
      "cell_type": "markdown",
      "source": [
        "# Setup"
      ],
      "metadata": {
        "id": "awMYKF1a12Ba"
      }
    },
    {
      "cell_type": "code",
      "source": [
        "#!pip install Pillow pytesseract google-generativeai\n",
        "!pip install Pillow google-generativeai"
      ],
      "metadata": {
        "id": "aIj8IEPJi7Zd"
      },
      "execution_count": null,
      "outputs": []
    },
    {
      "cell_type": "code",
      "source": [
        "# @title\n",
        "import os\n",
        "from google.colab import userdata\n",
        "os.environ[\"GEMINI_API_KEY\"] = userdata.get(\"GEMINI_API_KEY\")"
      ],
      "metadata": {
        "id": "oVEj-vxRw0QD"
      },
      "execution_count": null,
      "outputs": []
    },
    {
      "cell_type": "markdown",
      "source": [
        "# Image to Table (HTML)\n",
        "Run this cell to upload an image of a table."
      ],
      "metadata": {
        "id": "RQLyiXxM18KJ"
      }
    },
    {
      "cell_type": "code",
      "execution_count": null,
      "metadata": {
        "id": "EPy0zoB1-WM_",
        "cellView": "form"
      },
      "outputs": [],
      "source": [
        "# @title\n",
        "import os\n",
        "from PIL import Image\n",
        "#import pytesseract\n",
        "import io\n",
        "from google.colab import files, output, userdata\n",
        "import google.generativeai as genai\n",
        "\n",
        "# Set your Gemini API key\n",
        "#os.environ[\"GEMINI_API_KEY\"] = userdata.get('GEMINI_API_KEY')\n",
        "\n",
        "#def install_tesseract_and_ocr():\n",
        "#    \"\"\"Installs Tesseract OCR and its Python wrapper in Colab.\"\"\"\n",
        "#    try:\n",
        "#        !apt-get update  # Update package list\n",
        "#        !apt-get install -y tesseract-ocr\n",
        "#        !pip install pytesseract\n",
        "#        print(\"Tesseract OCR installed successfully.\")\n",
        "#        return True\n",
        "#    except Exception as e:\n",
        "#        print(f\"Error installing Tesseract OCR: {e}\")\n",
        "#        return False\n",
        "\n",
        "def extract_table_from_image(image_bytes):\n",
        "    \"\"\"Extracts a table from image bytes using OCR and Gemini API (using google.generativeai).\"\"\"\n",
        "    try:\n",
        "        img = Image.open(io.BytesIO(image_bytes))\n",
        "        #extracted_text = pytesseract.image_to_string(img)\n",
        "\n",
        "        prompt = f\"\"\"\n",
        "        Please analyze the following image of a table and convert it to a WCAG compliant table in html format. Make sure to appropriately modify rowspan and/or colspan to account for split cells. Do not add anything extra.\n",
        "        \"\"\"\n",
        "        genai.configure(api_key=os.environ[\"GEMINI_API_KEY\"])\n",
        "\n",
        "        model = genai.GenerativeModel('gemini-2.0-flash')\n",
        "\n",
        "        response = model.generate_content([prompt, img])\n",
        "\n",
        "        gemini_output = response.text  # Access the result directly\n",
        "\n",
        "        return f\"{gemini_output[gemini_output.index('<table>'):gemini_output.rindex('</table>')+8]}\\n\"\n",
        "    except Exception as e:\n",
        "        print(f\"An error occurred: {e}\")\n",
        "        return None\n",
        "\n",
        "\n",
        "def process_uploaded_image():\n",
        "    \"\"\"Handles image upload and table extraction in Colab.\"\"\"\n",
        "    #if not install_tesseract_and_ocr():  # Install Tesseract first\n",
        "    #    return  # Exit if installation fails\n",
        "\n",
        "    try:\n",
        "        uploaded = files.upload()\n",
        "\n",
        "        if uploaded:\n",
        "            full_data = '<html>\\n'\n",
        "            for filename, data in uploaded.items():\n",
        "                image_bytes = data\n",
        "                table_data = extract_table_from_image(image_bytes)\n",
        "\n",
        "                if table_data:\n",
        "                    output.clear()\n",
        "                    #table_data = f\"<html>\\n{table_data[table_data.index('<'):table_data.rindex('>')+1]}\\n<\\html>\"\n",
        "                    #print(table_data)\n",
        "                    full_data += table_data\n",
        "                else:\n",
        "                    print(\"Table extraction failed.\")\n",
        "            full_data += '</html>'\n",
        "            print(full_data)\n",
        "            return full_data\n",
        "        else:\n",
        "          print(\"No file uploaded\")\n",
        "\n",
        "    except Exception as e:\n",
        "        print(f\"An error occurred: {e}\")\n",
        "\n",
        "\n",
        "if __name__ == \"__main__\":\n",
        "    table_data = process_uploaded_image()  # Call the processing function directly"
      ]
    },
    {
      "cell_type": "markdown",
      "source": [
        "https://mconverter.eu/convert/html/docx/ <br>\n",
        "https://convertio.co/html-pptx/"
      ],
      "metadata": {
        "id": "fDk3VNopy-OX"
      }
    },
    {
      "cell_type": "markdown",
      "source": [
        "# MConverter Conversion to docx\n",
        "Run this section to convert the images of tables to a Word document with tables."
      ],
      "metadata": {
        "id": "Mx3HMriM-Kcd"
      }
    },
    {
      "cell_type": "code",
      "source": [
        "with open(\"table_data.html\", \"w\") as file:\n",
        "    file.write(table_data)"
      ],
      "metadata": {
        "id": "zMLa9vsi-_RU"
      },
      "execution_count": null,
      "outputs": []
    },
    {
      "cell_type": "code",
      "source": [
        "response = !curl https://api.mconverter.eu/v1/start_conversion.php -X POST -F \"api_key=usXGCWEO9GWncAU8LrAOQf8nzXzTeddr\" -F \"target_format=docx\" -F \"source=@/content/table_data.html\"\n",
        "response"
      ],
      "metadata": {
        "id": "7NKCJiGZ-OTt"
      },
      "execution_count": null,
      "outputs": []
    },
    {
      "cell_type": "code",
      "source": [
        "id = response[0]\n",
        "id = int(id[id.index('id')+4:id.index(',')])\n",
        "id"
      ],
      "metadata": {
        "id": "_oesxOmzBTDT"
      },
      "execution_count": null,
      "outputs": []
    },
    {
      "cell_type": "code",
      "source": [
        "while True:\n",
        "  status = !curl https://api.mconverter.eu/v1/check_progress.php -X POST -F \"api_key=usXGCWEO9GWncAU8LrAOQf8nzXzTeddr\" -F \"conversion_id={id}\"\n",
        "  status = status[0]\n",
        "  start = status.index('status') + 9\n",
        "  status = status[start:start+8]\n",
        "  print(status)\n",
        "  if status == \"finished\":\n",
        "    break"
      ],
      "metadata": {
        "id": "oXQv2UQfRpHa"
      },
      "execution_count": null,
      "outputs": []
    },
    {
      "cell_type": "code",
      "source": [
        "!curl https://api.mconverter.eu/v1/get_file.php -o table_data.docx -J -X POST -F \"api_key=usXGCWEO9GWncAU8LrAOQf8nzXzTeddr\" -F \"conversion_id={id}\""
      ],
      "metadata": {
        "id": "9dLWMPqoCIvT"
      },
      "execution_count": null,
      "outputs": []
    },
    {
      "cell_type": "code",
      "source": [
        "from google.colab import files\n",
        "files.download('table_data.docx')"
      ],
      "metadata": {
        "id": "_8pgK3M9CsIW"
      },
      "execution_count": null,
      "outputs": []
    },
    {
      "cell_type": "markdown",
      "source": [
        "Source for dataset:\n",
        "https://www.kaggle.com/datasets/rhtsingh/general-table-recognition-dataset?resource=download"
      ],
      "metadata": {
        "id": "yKSB_obzyI1I"
      }
    }
  ]
}